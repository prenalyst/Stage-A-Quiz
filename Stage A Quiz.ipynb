{
 "cells": [
  {
   "cell_type": "markdown",
   "metadata": {},
   "source": [
    "# Introduction"
   ]
  },
  {
   "cell_type": "markdown",
   "metadata": {},
   "source": [
    "In this project, we will work with a **fuel quality data** containing thousands of rows. The dataset is provided by the United States Energy Information Administration and contains information on the fuel type, fuel quantity, power plant producing the fuel and various fuel costs.\n",
    "\n",
    "The aim of this project is to:\n",
    "\n",
    "- Explore operating costs of power plants. \n",
    "\n",
    "- See how fuel costs impact the viability of generation sources. \n",
    "\n",
    "- Highlight the competitiveness of renewable electricity. \n",
    "\n",
    "- Show how generation mix of different utilities evolved over time.\n",
    "\n",
    "The *data dictionary* provided with the data is as follows:\n",
    "\n",
    "\n",
    "- **record_id** - record id \n",
    "\n",
    "\n",
    "- **utility_id_ferc1** - Utility id assigned by the FERC\n",
    "\n",
    "\n",
    "- **report_year** - year of report\n",
    "\n",
    "\n",
    "- **plant_name_ferc1** - the name of the plant\n",
    "\n",
    "\n",
    "- **fuel_type_code_pudl** - the type of fuel\n",
    "\n",
    "\n",
    "- **fuel_unit** - the unit of fuel\n",
    "\n",
    "\n",
    "- **fuel_qty_burned** - the quantity of fuel burned\n",
    "\n",
    "\n",
    "- **fuel_mmbtu_per_unit** - the measure of energy per unit\n",
    "\n",
    "\n",
    "- **fuel_cost_per_unit_burned** - the fuel cost per unit burned\n",
    "\n",
    "\n",
    "- **fuel_cost_per_unit_delivered** - the cost of fuel delivered per unit \n",
    "\n",
    "\n",
    "- **fuel_cost_per_mmbtu**</span> \\- the cost of fuel per mmbtu\n",
    "\n",
    "\n",
    "Let's import the necessary library and read in the data into a pandas dataframe."
   ]
  },
  {
   "cell_type": "code",
   "execution_count": 1,
   "metadata": {},
   "outputs": [],
   "source": [
    "#importing libraries\n",
    "import numpy as np\n",
    "import pandas as pd\n",
    "import matplotlib.pyplot as plt\n",
    "import seaborn as sns\n",
    "sns.set_style('white')\n",
    "%matplotlib inline"
   ]
  },
  {
   "cell_type": "code",
   "execution_count": 2,
   "metadata": {},
   "outputs": [],
   "source": [
    "# reading in the data from local\n",
    "fuel_data = pd.read_csv('/storage/emulated/0/Hamoye/Stage A/utility.csv')\n"
   ]
  },
  {
   "cell_type": "markdown",
   "metadata": {},
   "source": [
    "### Question 3\n",
    "##### Which fuel type has the lowest average fuel cost per unit burned?\n",
    "\n",
    "\n",
    "The fuel type column is represented by the `fuel_type_code_pudl` column in the `fuel_data` dataframe. To know which fuel type has the lowest average fuel cost per unit burned, we are going to group the values in the `fuel_type_code_pudl` column using `DataFrame.groupby` method. \n",
    "\n",
    "From the *groupby* object returned, we then select the column we are interested in, which is the `fuel_cost_per_unit_burned` column, and find the **average(mean)** of the grouped values."
   ]
  },
  {
   "cell_type": "code",
   "execution_count": 3,
   "metadata": {},
   "outputs": [],
   "source": [
    "fuel_type_grouped = fuel_data.groupby('fuel_type_code_pudl')"
   ]
  },
  {
   "cell_type": "code",
   "execution_count": 4,
   "metadata": {
    "code_folding": []
   },
   "outputs": [
    {
     "data": {
      "text/plain": [
       "fuel_type_code_pudl\n",
       "gas          13.659397\n",
       "other        18.253856\n",
       "waste        19.518122\n",
       "coal         67.421830\n",
       "oil         168.877086\n",
       "nuclear    4955.157002\n",
       "Name: fuel_cost_per_unit_burned, dtype: float64"
      ]
     },
     "execution_count": 4,
     "metadata": {},
     "output_type": "execute_result"
    }
   ],
   "source": [
    "# Finding the average for the column\n",
    "# and sorting the values in ascending order\n",
    "fuel_type_grouped['fuel_cost_per_unit_burned'].mean().sort_values()"
   ]
  },
  {
   "cell_type": "markdown",
   "metadata": {},
   "source": [
    "From the above cell, the fuel type with the lowest average fuel cost per unit burned is **gas** with a value of **13.659397**.\n",
    "\n",
    "We can also visualize this in a *barplot* with a little tweak to accomodate for extreme values. In the barplot below, the `ax.set_ylim()` is set to be between *0* and *100* so as to enable us to have a zoom-in view of the chart.The **orange** bar represent the lowest value, which is **gas**."
   ]
  },
  {
   "cell_type": "code",
   "execution_count": 5,
   "metadata": {},
   "outputs": [
    {
     "data": {
      "image/png": "[encoded data removed]",
      "text/plain": [
       "<Figure size 504x288 with 1 Axes>"
      ]
     },
     "metadata": {
      "needs_background": "light"
     },
     "output_type": "display_data"
    }
   ],
   "source": [
    "avg_fuel_cost_PUB = fuel_type_grouped['fuel_cost_per_unit_burned'].mean()\n",
    "fig = plt.figure(figsize=(7, 4))\n",
    "ax = fig.add_subplot(1, 1, 1)\n",
    "sns.barplot(x=avg_fuel_cost_PUB.index, y=avg_fuel_cost_PUB.values)\n",
    "sns.despine(bottom=True, left=True)\n",
    "ax.set_ylim(0, 100)\n",
    "ax.set_yticks([0, 100])\n",
    "ax.set_title('Average Fuel Cost Per Unit Burned')\n",
    "plt.show()"
   ]
  },
  {
   "cell_type": "markdown",
   "metadata": {},
   "source": [
    "### Question 4\n",
    "##### What is the standard deviation and 75th percentile of the measure of energy per unit (fuel_mmbtu_per_unit) in two decimal places?\n",
    "\n",
    "We can derive this by looking at the description of the `fuel_mmbtu_per_unit` column of the `fuel_data` column using `DateFrame.describe()` method."
   ]
  },
  {
   "cell_type": "code",
   "execution_count": 6,
   "metadata": {},
   "outputs": [
    {
     "data": {
      "text/plain": [
       "count    29523.000000\n",
       "mean         8.492111\n",
       "std         10.600220\n",
       "min          0.000001\n",
       "25%          1.024000\n",
       "50%          5.762694\n",
       "75%         17.006000\n",
       "max        341.260000\n",
       "Name: fuel_mmbtu_per_unit, dtype: float64"
      ]
     },
     "execution_count": 6,
     "metadata": {},
     "output_type": "execute_result"
    }
   ],
   "source": [
    "fuel_data['fuel_mmbtu_per_unit'].describe()"
   ]
  },
  {
   "cell_type": "markdown",
   "metadata": {},
   "source": [
    "From the description of the `fuel_mmbtu_per_unit` column above, the **std** which stands for *standard deviation* is **10.600220** and the **75%** which is the *75th percentile* is **17.00600**.\n",
    "\n",
    "In two decimal places, we have them as **10.60** and **17.01** respectively."
   ]
  },
  {
   "cell_type": "markdown",
   "metadata": {},
   "source": [
    "### Question 5\n",
    "##### What is the skewness and kurtosis for the fuel quantity burned in two decimal places.\n",
    "\n",
    "Both *skewness* and *kurtosis* can be calculated by their respective `DataFrame.skew()` and `DataFrame.kurtosis()` methods. They both have fairly similar way of calculation as both have the same set of parameters. \n",
    "\n",
    "For either, it is important to specify the right axis for the calculation if the operation is being performed on a pandas DataFrame.\n",
    "\n",
    "In our case, we are concerned with the `fuel_qty_burned` column, so our calculation is pretty straightforward and we also don't need to specify a value for the *axis* parameter."
   ]
  },
  {
   "cell_type": "code",
   "execution_count": 7,
   "metadata": {
    "scrolled": true
   },
   "outputs": [
    {
     "data": {
      "text/plain": [
       "15.851495469109503"
      ]
     },
     "execution_count": 7,
     "metadata": {},
     "output_type": "execute_result"
    }
   ],
   "source": [
    "fuel_data['fuel_qty_burned'].skew()\n"
   ]
  },
  {
   "cell_type": "code",
   "execution_count": 8,
   "metadata": {},
   "outputs": [
    {
     "data": {
      "text/plain": [
       "651.3694501337732"
      ]
     },
     "execution_count": 8,
     "metadata": {},
     "output_type": "execute_result"
    }
   ],
   "source": [
    "fuel_data['fuel_qty_burned'].kurtosis()"
   ]
  },
  {
   "cell_type": "markdown",
   "metadata": {},
   "source": [
    "From the previous two cells, we have our *skewness* and *kurtosis* for the `fuel_qty_burned` column as **15.85** and **651.37** respectively in two decimal places."
   ]
  },
  {
   "cell_type": "markdown",
   "metadata": {},
   "source": [
    "### Question 8\n",
    "##### Which of the features has the second and third lowest correlation with the Fuel Cost Per Unit Burned?\n",
    "\n",
    "This can be found using `DataFrame.corr()` method."
   ]
  },
  {
   "cell_type": "code",
   "execution_count": 9,
   "metadata": {},
   "outputs": [],
   "source": [
    "corr_fuel_data = fuel_data.corr()"
   ]
  },
  {
   "cell_type": "markdown",
   "metadata": {},
   "source": [
    "The correlation for the `fuel_data` dataframe has been stored in another dataframe called `corr_fuel_data` as shown above. \n",
    "\n",
    "We can use `DataFrame.loc` method to display the correlation for just the `fuel_cost_per_unit_burned` column and sort the values in **descending** order."
   ]
  },
  {
   "cell_type": "code",
   "execution_count": 10,
   "metadata": {},
   "outputs": [
    {
     "data": {
      "text/plain": [
       "fuel_cost_per_unit_burned       1.000000\n",
       "report_year                     0.013599\n",
       "fuel_cost_per_unit_delivered    0.011007\n",
       "fuel_cost_per_mmbtu            -0.000437\n",
       "fuel_mmbtu_per_unit            -0.010034\n",
       "fuel_qty_burned                -0.018535\n",
       "utility_id_ferc1               -0.037863\n",
       "Name: fuel_cost_per_unit_burned, dtype: float64"
      ]
     },
     "execution_count": 10,
     "metadata": {},
     "output_type": "execute_result"
    }
   ],
   "source": [
    "corr_fuel_data.loc['fuel_cost_per_unit_burned'].sort_values(ascending=False)\n"
   ]
  },
  {
   "cell_type": "markdown",
   "metadata": {},
   "source": [
    "We can see from the output that the features with the second and third lowest correlation with `fuel_cost_per_unit_burned` is `fuel_qty_burned` and `fuel_mmbtu_per_unit` respectively."
   ]
  },
  {
   "cell_type": "markdown",
   "metadata": {},
   "source": [
    "### Question 9\n",
    "##### For the fuel type coal, what is the percentage change in the fuel cost per unit burned in 1998 compared to 1994?\n",
    "\n",
    "From the `fuel_data` dataframe, we need to return a new dataframe that displays column values only when the `fuel_type_code_pudl` column is **coal**. \n",
    "\n",
    "This can be done using boolean indexing. \n",
    "\n",
    "\n",
    "So we want to return a DataFrame when the `fuel_type_code_pudl` == *'coal'* **and** the `report_year` is *1994* **or** *1998*"
   ]
  },
  {
   "cell_type": "code",
   "execution_count": 11,
   "metadata": {},
   "outputs": [],
   "source": [
    "coal_fuel_94_98 = fuel_data[(fuel_data['fuel_type_code_pudl']=='coal') & ((fuel_data['report_year']==1994) | (fuel_data['report_year']==1998))]"
   ]
  },
  {
   "cell_type": "code",
   "execution_count": 12,
   "metadata": {},
   "outputs": [
    {
     "data": {
      "text/html": [
       "<div>\n",
       "<style scoped>\n",
       "    .dataframe tbody tr th:only-of-type {\n",
       "        vertical-align: middle;\n",
       "    }\n",
       "\n",
       "    .dataframe tbody tr th {\n",
       "        vertical-align: top;\n",
       "    }\n",
       "\n",
       "    .dataframe thead th {\n",
       "        text-align: right;\n",
       "    }\n",
       "</style>\n",
       "<table border=\"1\" class=\"dataframe\">\n",
       "  <thead>\n",
       "    <tr style=\"text-align: right;\">\n",
       "      <th></th>\n",
       "      <th>record_id</th>\n",
       "      <th>utility_id_ferc1</th>\n",
       "      <th>report_year</th>\n",
       "      <th>plant_name_ferc1</th>\n",
       "      <th>fuel_type_code_pudl</th>\n",
       "      <th>fuel_unit</th>\n",
       "      <th>fuel_qty_burned</th>\n",
       "      <th>fuel_mmbtu_per_unit</th>\n",
       "      <th>fuel_cost_per_unit_burned</th>\n",
       "      <th>fuel_cost_per_unit_delivered</th>\n",
       "      <th>fuel_cost_per_mmbtu</th>\n",
       "    </tr>\n",
       "  </thead>\n",
       "  <tbody>\n",
       "    <tr>\n",
       "      <th>0</th>\n",
       "      <td>f1_fuel_1994_12_1_0_7</td>\n",
       "      <td>1</td>\n",
       "      <td>1994</td>\n",
       "      <td>rockport</td>\n",
       "      <td>coal</td>\n",
       "      <td>ton</td>\n",
       "      <td>5377489.0</td>\n",
       "      <td>16.590</td>\n",
       "      <td>18.590</td>\n",
       "      <td>18.530</td>\n",
       "      <td>1.121</td>\n",
       "    </tr>\n",
       "    <tr>\n",
       "      <th>1</th>\n",
       "      <td>f1_fuel_1994_12_1_0_10</td>\n",
       "      <td>1</td>\n",
       "      <td>1994</td>\n",
       "      <td>rockport total plant</td>\n",
       "      <td>coal</td>\n",
       "      <td>ton</td>\n",
       "      <td>10486945.0</td>\n",
       "      <td>16.592</td>\n",
       "      <td>18.580</td>\n",
       "      <td>18.530</td>\n",
       "      <td>1.120</td>\n",
       "    </tr>\n",
       "    <tr>\n",
       "      <th>2</th>\n",
       "      <td>f1_fuel_1994_12_2_0_1</td>\n",
       "      <td>2</td>\n",
       "      <td>1994</td>\n",
       "      <td>gorgas</td>\n",
       "      <td>coal</td>\n",
       "      <td>ton</td>\n",
       "      <td>2978683.0</td>\n",
       "      <td>24.130</td>\n",
       "      <td>39.720</td>\n",
       "      <td>38.120</td>\n",
       "      <td>1.650</td>\n",
       "    </tr>\n",
       "    <tr>\n",
       "      <th>3</th>\n",
       "      <td>f1_fuel_1994_12_2_0_7</td>\n",
       "      <td>2</td>\n",
       "      <td>1994</td>\n",
       "      <td>barry</td>\n",
       "      <td>coal</td>\n",
       "      <td>ton</td>\n",
       "      <td>3739484.0</td>\n",
       "      <td>23.950</td>\n",
       "      <td>47.210</td>\n",
       "      <td>45.990</td>\n",
       "      <td>1.970</td>\n",
       "    </tr>\n",
       "    <tr>\n",
       "      <th>5</th>\n",
       "      <td>f1_fuel_1994_12_2_0_13</td>\n",
       "      <td>2</td>\n",
       "      <td>1994</td>\n",
       "      <td>e. c. gaston-unit 5</td>\n",
       "      <td>coal</td>\n",
       "      <td>ton</td>\n",
       "      <td>2124933.0</td>\n",
       "      <td>23.922</td>\n",
       "      <td>44.240</td>\n",
       "      <td>43.250</td>\n",
       "      <td>1.850</td>\n",
       "    </tr>\n",
       "    <tr>\n",
       "      <th>...</th>\n",
       "      <td>...</td>\n",
       "      <td>...</td>\n",
       "      <td>...</td>\n",
       "      <td>...</td>\n",
       "      <td>...</td>\n",
       "      <td>...</td>\n",
       "      <td>...</td>\n",
       "      <td>...</td>\n",
       "      <td>...</td>\n",
       "      <td>...</td>\n",
       "      <td>...</td>\n",
       "    </tr>\n",
       "    <tr>\n",
       "      <th>5708</th>\n",
       "      <td>f1_fuel_1998_12_145_0_10</td>\n",
       "      <td>145</td>\n",
       "      <td>1998</td>\n",
       "      <td>comanche</td>\n",
       "      <td>coal</td>\n",
       "      <td>ton</td>\n",
       "      <td>2732360.0</td>\n",
       "      <td>17.134</td>\n",
       "      <td>15.151</td>\n",
       "      <td>15.035</td>\n",
       "      <td>0.884</td>\n",
       "    </tr>\n",
       "    <tr>\n",
       "      <th>5710</th>\n",
       "      <td>f1_fuel_1998_12_145_0_13</td>\n",
       "      <td>145</td>\n",
       "      <td>1998</td>\n",
       "      <td>craig</td>\n",
       "      <td>coal</td>\n",
       "      <td>ton</td>\n",
       "      <td>324689.0</td>\n",
       "      <td>20.058</td>\n",
       "      <td>21.055</td>\n",
       "      <td>21.386</td>\n",
       "      <td>1.050</td>\n",
       "    </tr>\n",
       "    <tr>\n",
       "      <th>5712</th>\n",
       "      <td>f1_fuel_1998_12_145_1_1</td>\n",
       "      <td>145</td>\n",
       "      <td>1998</td>\n",
       "      <td>hayden</td>\n",
       "      <td>coal</td>\n",
       "      <td>ton</td>\n",
       "      <td>802459.0</td>\n",
       "      <td>21.092</td>\n",
       "      <td>22.596</td>\n",
       "      <td>22.691</td>\n",
       "      <td>1.071</td>\n",
       "    </tr>\n",
       "    <tr>\n",
       "      <th>5714</th>\n",
       "      <td>f1_fuel_1998_12_145_1_4</td>\n",
       "      <td>145</td>\n",
       "      <td>1998</td>\n",
       "      <td>pawnee</td>\n",
       "      <td>coal</td>\n",
       "      <td>ton</td>\n",
       "      <td>2104342.0</td>\n",
       "      <td>16.684</td>\n",
       "      <td>14.035</td>\n",
       "      <td>13.596</td>\n",
       "      <td>0.842</td>\n",
       "    </tr>\n",
       "    <tr>\n",
       "      <th>5716</th>\n",
       "      <td>f1_fuel_1998_12_145_1_7</td>\n",
       "      <td>145</td>\n",
       "      <td>1998</td>\n",
       "      <td>valmont 5</td>\n",
       "      <td>coal</td>\n",
       "      <td>ton</td>\n",
       "      <td>592834.0</td>\n",
       "      <td>21.842</td>\n",
       "      <td>24.875</td>\n",
       "      <td>25.128</td>\n",
       "      <td>1.139</td>\n",
       "    </tr>\n",
       "  </tbody>\n",
       "</table>\n",
       "<p>906 rows × 11 columns</p>\n",
       "</div>"
      ],
      "text/plain": [
       "                     record_id  utility_id_ferc1  report_year  \\\n",
       "0        f1_fuel_1994_12_1_0_7                 1         1994   \n",
       "1       f1_fuel_1994_12_1_0_10                 1         1994   \n",
       "2        f1_fuel_1994_12_2_0_1                 2         1994   \n",
       "3        f1_fuel_1994_12_2_0_7                 2         1994   \n",
       "5       f1_fuel_1994_12_2_0_13                 2         1994   \n",
       "...                        ...               ...          ...   \n",
       "5708  f1_fuel_1998_12_145_0_10               145         1998   \n",
       "5710  f1_fuel_1998_12_145_0_13               145         1998   \n",
       "5712   f1_fuel_1998_12_145_1_1               145         1998   \n",
       "5714   f1_fuel_1998_12_145_1_4               145         1998   \n",
       "5716   f1_fuel_1998_12_145_1_7               145         1998   \n",
       "\n",
       "          plant_name_ferc1 fuel_type_code_pudl fuel_unit  fuel_qty_burned  \\\n",
       "0                 rockport                coal       ton        5377489.0   \n",
       "1     rockport total plant                coal       ton       10486945.0   \n",
       "2                   gorgas                coal       ton        2978683.0   \n",
       "3                    barry                coal       ton        3739484.0   \n",
       "5      e. c. gaston-unit 5                coal       ton        2124933.0   \n",
       "...                    ...                 ...       ...              ...   \n",
       "5708              comanche                coal       ton        2732360.0   \n",
       "5710                 craig                coal       ton         324689.0   \n",
       "5712                hayden                coal       ton         802459.0   \n",
       "5714                pawnee                coal       ton        2104342.0   \n",
       "5716             valmont 5                coal       ton         592834.0   \n",
       "\n",
       "      fuel_mmbtu_per_unit  fuel_cost_per_unit_burned  \\\n",
       "0                  16.590                     18.590   \n",
       "1                  16.592                     18.580   \n",
       "2                  24.130                     39.720   \n",
       "3                  23.950                     47.210   \n",
       "5                  23.922                     44.240   \n",
       "...                   ...                        ...   \n",
       "5708               17.134                     15.151   \n",
       "5710               20.058                     21.055   \n",
       "5712               21.092                     22.596   \n",
       "5714               16.684                     14.035   \n",
       "5716               21.842                     24.875   \n",
       "\n",
       "      fuel_cost_per_unit_delivered  fuel_cost_per_mmbtu  \n",
       "0                           18.530                1.121  \n",
       "1                           18.530                1.120  \n",
       "2                           38.120                1.650  \n",
       "3                           45.990                1.970  \n",
       "5                           43.250                1.850  \n",
       "...                            ...                  ...  \n",
       "5708                        15.035                0.884  \n",
       "5710                        21.386                1.050  \n",
       "5712                        22.691                1.071  \n",
       "5714                        13.596                0.842  \n",
       "5716                        25.128                1.139  \n",
       "\n",
       "[906 rows x 11 columns]"
      ]
     },
     "execution_count": 12,
     "metadata": {},
     "output_type": "execute_result"
    }
   ],
   "source": [
    "coal_fuel_94_98"
   ]
  },
  {
   "cell_type": "markdown",
   "metadata": {},
   "source": [
    "From the previous output, we have a total of **906** entries for years *1994* and *1998*. \n",
    "\n",
    "So we use the `DataFrame.groupby()` method to group the `coal_fuel_94_98` dataframe by the `report_year` and perform our operation on them."
   ]
  },
  {
   "cell_type": "code",
   "execution_count": 13,
   "metadata": {},
   "outputs": [],
   "source": [
    "grouped = coal_fuel_94_98.groupby('report_year')"
   ]
  },
  {
   "cell_type": "markdown",
   "metadata": {},
   "source": [
    "What we have here is a *groupby* object. We are concerned mainly with the `fuel_cost_per_unit_burned` column; let's select this column from `grouped` and find the sum of the values corresponding to the year *1994* and *1998*."
   ]
  },
  {
   "cell_type": "code",
   "execution_count": 14,
   "metadata": {},
   "outputs": [
    {
     "data": {
      "text/plain": [
       "report_year\n",
       "1994    14984.572\n",
       "1998    11902.597\n",
       "Name: fuel_cost_per_unit_burned, dtype: float64"
      ]
     },
     "execution_count": 14,
     "metadata": {},
     "output_type": "execute_result"
    }
   ],
   "source": [
    "grouped['fuel_cost_per_unit_burned'].sum()"
   ]
  },
  {
   "cell_type": "markdown",
   "metadata": {},
   "source": [
    "We can now calculate the **percentage change** from *1994* to *1998*."
   ]
  },
  {
   "cell_type": "code",
   "execution_count": 15,
   "metadata": {},
   "outputs": [
    {
     "name": "stdout",
     "output_type": "stream",
     "text": [
      "Percentage change is 21%\n"
     ]
    }
   ],
   "source": [
    "FC_year_1994 = 14984.572\n",
    "FC_year_1998 = 11902.597\n",
    "\n",
    "pct_chg = ((FC_year_1994 - FC_year_1998)/ FC_year_1994) * 100\n",
    "print ('Percentage change is {:.0f}%'.format(pct_chg))"
   ]
  },
  {
   "cell_type": "markdown",
   "metadata": {},
   "source": [
    "It is important to note that the **21%** was a decrease, as the cost in *1998* is lower than that of *1994*."
   ]
  },
  {
   "cell_type": "markdown",
   "metadata": {},
   "source": [
    "### Question 10\n",
    "##### Which year has the highest average fuel cost per unit delivered?\n",
    "\n",
    "Here, we are again going to use the `DataFrame.groupby` method to group the `fuel_data` dataframe by `report_year`. This will enable us to find the average of the fuel cost per unit delivered for all entries in each year, and then sort the values to find the year with the highest average."
   ]
  },
  {
   "cell_type": "code",
   "execution_count": 16,
   "metadata": {},
   "outputs": [],
   "source": [
    "grouped_report_year = fuel_data.groupby('report_year')"
   ]
  },
  {
   "cell_type": "markdown",
   "metadata": {},
   "source": [
    "We are interested in the `fuel_cost_per_unit_delivered` column; so let's select that and calculate the average."
   ]
  },
  {
   "cell_type": "code",
   "execution_count": 17,
   "metadata": {},
   "outputs": [
    {
     "data": {
      "text/plain": [
       "report_year\n",
       "1997    11140.197239\n",
       "1996     9196.705948\n",
       "2000      985.362877\n",
       "2009      652.694163\n",
       "2018      499.269966\n",
       "2015      326.535511\n",
       "1998      287.154420\n",
       "2014      192.737183\n",
       "2013      172.307591\n",
       "2004      139.524275\n",
       "2016      103.901761\n",
       "2010       91.862105\n",
       "1994       63.636060\n",
       "2012       60.994502\n",
       "2001       60.050396\n",
       "2011       59.774667\n",
       "2008       58.588197\n",
       "2003       55.663493\n",
       "2002       47.594361\n",
       "2017       46.196861\n",
       "2007       43.325023\n",
       "2005       41.438184\n",
       "2006       38.657484\n",
       "1995       32.735269\n",
       "1999       25.551627\n",
       "Name: fuel_cost_per_unit_delivered, dtype: float64"
      ]
     },
     "execution_count": 17,
     "metadata": {},
     "output_type": "execute_result"
    }
   ],
   "source": [
    "grouped_report_year['fuel_cost_per_unit_delivered'].mean().sort_values(ascending=False)\n"
   ]
  },
  {
   "cell_type": "markdown",
   "metadata": {},
   "source": [
    "Above, we have our answer in descending order, and we can see that the highest value is *11140.187239*. The year corresponding to this is **1997**."
   ]
  }
 ],
 "metadata": {
  "kernelspec": {
   "display_name": "Python 3",
   "language": "python",
   "name": "python3"
  },
  "language_info": {
   "codemirror_mode": {
    "name": "ipython",
    "version": 3
   },
   "file_extension": ".py",
   "mimetype": "text/x-python",
   "name": "python",
   "nbconvert_exporter": "python",
   "pygments_lexer": "ipython3",
   "version": "3.8.3"
  },
  "latex_envs": {
   "LaTeX_envs_menu_present": true,
   "autoclose": true,
   "autocomplete": true,
   "bibliofile": "biblio.bib",
   "cite_by": "apalike",
   "current_citInitial": 1,
   "eqLabelWithNumbers": true,
   "eqNumInitial": 1,
   "hotkeys": {
    "equation": "Ctrl-E",
    "itemize": "Ctrl-I"
   },
   "labels_anchors": true,
   "latex_user_defs": false,
   "report_style_numbering": false,
   "user_envs_cfg": false
  },
  "varInspector": {
   "cols": {
    "lenName": 16,
    "lenType": 16,
    "lenVar": 40
   },
   "kernels_config": {
    "python": {
     "delete_cmd_postfix": "",
     "delete_cmd_prefix": "del ",
     "library": "var_list.py",
     "varRefreshCmd": "print(var_dic_list())"
    },
    "r": {
     "delete_cmd_postfix": ") ",
     "delete_cmd_prefix": "rm(",
     "library": "var_list.r",
     "varRefreshCmd": "cat(var_dic_list()) "
    }
   },
   "types_to_exclude": [
    "module",
    "function",
    "builtin_function_or_method",
    "instance",
    "_Feature"
   ],
   "window_display": false
  }
 },
 "nbformat": 4,
 "nbformat_minor": 4
}
